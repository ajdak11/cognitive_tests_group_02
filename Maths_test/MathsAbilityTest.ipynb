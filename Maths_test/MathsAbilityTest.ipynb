{
 "cells": [
  {
   "cell_type": "markdown",
   "id": "b41025fb-9af7-408f-a84b-b3e79afb4a9b",
   "metadata": {},
   "source": [
    "# The Maths Ability Test\n",
    "\n",
    "This program runs the Maths Ability Test test, upoloading your results to an online spreadsheet.\n",
    "\n",
    "Select **Run** > **Run All Cells** from the menu to run the test."
   ]
  },
  {
   "cell_type": "code",
   "execution_count": null,
   "id": "09e16a47-91a0-43d9-a534-9b095191d1e9",
   "metadata": {},
   "outputs": [
    {
     "data": {
      "text/html": [
       "<span style='color: black; font-size: 28px;'>Data Consent Information:</span>"
      ],
      "text/plain": [
       "<IPython.core.display.HTML object>"
      ]
     },
     "metadata": {},
     "output_type": "display_data"
    },
    {
     "name": "stdout",
     "output_type": "stream",
     "text": [
      "Please read: \n",
      "We wish to record your response data to an anonymized public data repository. \n",
      "Your data will be used for educational teaching purposes practicing data analysis and visualization.\n",
      "\n",
      "Please type \"yes\" in the box below if you consent to the upload.\n"
     ]
    }
   ],
   "source": [
    "from Maths_import_file import main\n",
    "main()"
   ]
  }
 ],
 "metadata": {
  "kernelspec": {
   "display_name": "Python 3 (ipykernel)",
   "language": "python",
   "name": "python3"
  },
  "language_info": {
   "codemirror_mode": {
    "name": "ipython",
    "version": 3
   },
   "file_extension": ".py",
   "mimetype": "text/x-python",
   "name": "python",
   "nbconvert_exporter": "python",
   "pygments_lexer": "ipython3",
   "version": "3.8.18"
  }
 },
 "nbformat": 4,
 "nbformat_minor": 5
}
